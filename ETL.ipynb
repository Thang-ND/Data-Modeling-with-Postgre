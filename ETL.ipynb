{
 "cells": [
  {
   "cell_type": "markdown",
   "metadata": {},
   "source": [
    "# ETL Processes"
   ]
  },
  {
   "cell_type": "code",
   "execution_count": 69,
   "metadata": {},
   "outputs": [],
   "source": [
    "import os\n",
    "import glob\n",
    "import psycopg2\n",
    "import pandas as pd\n",
    "from sql_queries import *"
   ]
  },
  {
   "cell_type": "code",
   "execution_count": 70,
   "metadata": {},
   "outputs": [],
   "source": [
    "conn = psycopg2.connect(\"host=127.0.0.1 dbname=sparkifydb user=postgres password=test123\")\n",
    "cur = conn.cursor()"
   ]
  },
  {
   "cell_type": "code",
   "execution_count": 3,
   "metadata": {},
   "outputs": [],
   "source": [
    "def get_files(file_path):\n",
    "    all_files = []\n",
    "    for root, dirs, files in os.walk(file_path):\n",
    "        files = glob.glob(os.path.join(root, '*.json'))\n",
    "        for f in files:\n",
    "            all_files.append(os.path.abspath(f))\n",
    "    return all_files"
   ]
  },
  {
   "cell_type": "markdown",
   "metadata": {},
   "source": [
    "# Process song data"
   ]
  },
  {
   "cell_type": "code",
   "execution_count": 4,
   "metadata": {},
   "outputs": [
    {
     "name": "stdout",
     "output_type": "stream",
     "text": [
      "['/home/winner/Documents/Data Engineer/project/DataModeling_with_Postgres/data/song_data/A/A/A/TRAAAMQ128F1460CD3.json', '/home/winner/Documents/Data Engineer/project/DataModeling_with_Postgres/data/song_data/A/A/A/TRAAADZ128F9348C2E.json', '/home/winner/Documents/Data Engineer/project/DataModeling_with_Postgres/data/song_data/A/A/A/TRAAAAW128F429D538.json', '/home/winner/Documents/Data Engineer/project/DataModeling_with_Postgres/data/song_data/A/A/A/TRAAAVG12903CFA543.json', '/home/winner/Documents/Data Engineer/project/DataModeling_with_Postgres/data/song_data/A/A/A/TRAAAPK128E0786D96.json', '/home/winner/Documents/Data Engineer/project/DataModeling_with_Postgres/data/song_data/A/A/A/TRAAABD128F429CF47.json', '/home/winner/Documents/Data Engineer/project/DataModeling_with_Postgres/data/song_data/A/A/A/TRAAAMO128F1481E7F.json', '/home/winner/Documents/Data Engineer/project/DataModeling_with_Postgres/data/song_data/A/A/A/TRAAAEF128F4273421.json', '/home/winner/Documents/Data Engineer/project/DataModeling_with_Postgres/data/song_data/A/A/A/TRAAAFD128F92F423A.json', '/home/winner/Documents/Data Engineer/project/DataModeling_with_Postgres/data/song_data/A/A/A/TRAAARJ128F9320760.json', '/home/winner/Documents/Data Engineer/project/DataModeling_with_Postgres/data/song_data/A/A/C/TRAACNS128F14A2DF5.json', '/home/winner/Documents/Data Engineer/project/DataModeling_with_Postgres/data/song_data/A/A/C/TRAACCG128F92E8A55.json', '/home/winner/Documents/Data Engineer/project/DataModeling_with_Postgres/data/song_data/A/A/C/TRAACOW128F933E35F.json', '/home/winner/Documents/Data Engineer/project/DataModeling_with_Postgres/data/song_data/A/A/C/TRAACFV128F935E50B.json', '/home/winner/Documents/Data Engineer/project/DataModeling_with_Postgres/data/song_data/A/A/C/TRAACIW12903CC0F6D.json', '/home/winner/Documents/Data Engineer/project/DataModeling_with_Postgres/data/song_data/A/A/C/TRAACHN128F1489601.json', '/home/winner/Documents/Data Engineer/project/DataModeling_with_Postgres/data/song_data/A/A/C/TRAACER128F4290F96.json', '/home/winner/Documents/Data Engineer/project/DataModeling_with_Postgres/data/song_data/A/A/C/TRAACQT128F9331780.json', '/home/winner/Documents/Data Engineer/project/DataModeling_with_Postgres/data/song_data/A/A/C/TRAACPE128F421C1B9.json', '/home/winner/Documents/Data Engineer/project/DataModeling_with_Postgres/data/song_data/A/A/C/TRAACLV128F427E123.json', '/home/winner/Documents/Data Engineer/project/DataModeling_with_Postgres/data/song_data/A/A/B/TRAABYN12903CFD305.json', '/home/winner/Documents/Data Engineer/project/DataModeling_with_Postgres/data/song_data/A/A/B/TRAABRB128F9306DD5.json', '/home/winner/Documents/Data Engineer/project/DataModeling_with_Postgres/data/song_data/A/A/B/TRAABXG128F9318EBD.json', '/home/winner/Documents/Data Engineer/project/DataModeling_with_Postgres/data/song_data/A/A/B/TRAABNV128F425CEE1.json', '/home/winner/Documents/Data Engineer/project/DataModeling_with_Postgres/data/song_data/A/A/B/TRAABJL12903CDCF1A.json', '/home/winner/Documents/Data Engineer/project/DataModeling_with_Postgres/data/song_data/A/A/B/TRAABVM128F92CA9DC.json', '/home/winner/Documents/Data Engineer/project/DataModeling_with_Postgres/data/song_data/A/A/B/TRAABLR128F423B7E3.json', '/home/winner/Documents/Data Engineer/project/DataModeling_with_Postgres/data/song_data/A/A/B/TRAABJV128F1460C49.json', '/home/winner/Documents/Data Engineer/project/DataModeling_with_Postgres/data/song_data/A/A/B/TRAABCL128F4286650.json', '/home/winner/Documents/Data Engineer/project/DataModeling_with_Postgres/data/song_data/A/A/B/TRAABDL12903CAABBA.json', '/home/winner/Documents/Data Engineer/project/DataModeling_with_Postgres/data/song_data/A/B/A/TRABAXR128F426515F.json', '/home/winner/Documents/Data Engineer/project/DataModeling_with_Postgres/data/song_data/A/B/A/TRABACN128F425B784.json', '/home/winner/Documents/Data Engineer/project/DataModeling_with_Postgres/data/song_data/A/B/A/TRABAFP128F931E9A1.json', '/home/winner/Documents/Data Engineer/project/DataModeling_with_Postgres/data/song_data/A/B/A/TRABAXV128F92F6AE3.json', '/home/winner/Documents/Data Engineer/project/DataModeling_with_Postgres/data/song_data/A/B/A/TRABAWW128F4250A31.json', '/home/winner/Documents/Data Engineer/project/DataModeling_with_Postgres/data/song_data/A/B/A/TRABAIO128F42938F9.json', '/home/winner/Documents/Data Engineer/project/DataModeling_with_Postgres/data/song_data/A/B/A/TRABAVQ12903CBF7E0.json', '/home/winner/Documents/Data Engineer/project/DataModeling_with_Postgres/data/song_data/A/B/A/TRABAFJ128F42AF24E.json', '/home/winner/Documents/Data Engineer/project/DataModeling_with_Postgres/data/song_data/A/B/A/TRABATO128F42627E9.json', '/home/winner/Documents/Data Engineer/project/DataModeling_with_Postgres/data/song_data/A/B/A/TRABAXL128F424FC50.json', '/home/winner/Documents/Data Engineer/project/DataModeling_with_Postgres/data/song_data/A/B/C/TRABCFL128F149BB0D.json', '/home/winner/Documents/Data Engineer/project/DataModeling_with_Postgres/data/song_data/A/B/C/TRABCAJ12903CDFCC2.json', '/home/winner/Documents/Data Engineer/project/DataModeling_with_Postgres/data/song_data/A/B/C/TRABCEI128F424C983.json', '/home/winner/Documents/Data Engineer/project/DataModeling_with_Postgres/data/song_data/A/B/C/TRABCRU128F423F449.json', '/home/winner/Documents/Data Engineer/project/DataModeling_with_Postgres/data/song_data/A/B/C/TRABCPZ128F4275C32.json', '/home/winner/Documents/Data Engineer/project/DataModeling_with_Postgres/data/song_data/A/B/C/TRABCIX128F4265903.json', '/home/winner/Documents/Data Engineer/project/DataModeling_with_Postgres/data/song_data/A/B/C/TRABCTK128F934B224.json', '/home/winner/Documents/Data Engineer/project/DataModeling_with_Postgres/data/song_data/A/B/C/TRABCKL128F423A778.json', '/home/winner/Documents/Data Engineer/project/DataModeling_with_Postgres/data/song_data/A/B/C/TRABCEC128F426456E.json', '/home/winner/Documents/Data Engineer/project/DataModeling_with_Postgres/data/song_data/A/B/C/TRABCUQ128E0783E2B.json', '/home/winner/Documents/Data Engineer/project/DataModeling_with_Postgres/data/song_data/A/B/B/TRABBAM128F429D223.json', '/home/winner/Documents/Data Engineer/project/DataModeling_with_Postgres/data/song_data/A/B/B/TRABBOR128F4286200.json', '/home/winner/Documents/Data Engineer/project/DataModeling_with_Postgres/data/song_data/A/B/B/TRABBTA128F933D304.json', '/home/winner/Documents/Data Engineer/project/DataModeling_with_Postgres/data/song_data/A/B/B/TRABBJE12903CDB442.json', '/home/winner/Documents/Data Engineer/project/DataModeling_with_Postgres/data/song_data/A/B/B/TRABBNP128F932546F.json', '/home/winner/Documents/Data Engineer/project/DataModeling_with_Postgres/data/song_data/A/B/B/TRABBBV128F42967D7.json', '/home/winner/Documents/Data Engineer/project/DataModeling_with_Postgres/data/song_data/A/B/B/TRABBLU128F93349CF.json', '/home/winner/Documents/Data Engineer/project/DataModeling_with_Postgres/data/song_data/A/B/B/TRABBOP128F931B50D.json', '/home/winner/Documents/Data Engineer/project/DataModeling_with_Postgres/data/song_data/A/B/B/TRABBVJ128F92F7EAA.json', '/home/winner/Documents/Data Engineer/project/DataModeling_with_Postgres/data/song_data/A/B/B/TRABBKX128F4285205.json']\n"
     ]
    }
   ],
   "source": [
    "song_files = get_files('data/song_data')\n",
    "print(song_files)"
   ]
  },
  {
   "cell_type": "code",
   "execution_count": 5,
   "metadata": {},
   "outputs": [
    {
     "name": "stdout",
     "output_type": "stream",
     "text": [
      "/home/winner/Documents/Data Engineer/project/DataModeling_with_Postgres/data/song_data/A/A/A/TRAAAMQ128F1460CD3.json\n"
     ]
    }
   ],
   "source": [
    "file_path = song_files[0]\n",
    "print(file_path)"
   ]
  },
  {
   "cell_type": "code",
   "execution_count": 6,
   "metadata": {},
   "outputs": [
    {
     "data": {
      "text/html": [
       "<div>\n",
       "<style scoped>\n",
       "    .dataframe tbody tr th:only-of-type {\n",
       "        vertical-align: middle;\n",
       "    }\n",
       "\n",
       "    .dataframe tbody tr th {\n",
       "        vertical-align: top;\n",
       "    }\n",
       "\n",
       "    .dataframe thead th {\n",
       "        text-align: right;\n",
       "    }\n",
       "</style>\n",
       "<table border=\"1\" class=\"dataframe\">\n",
       "  <thead>\n",
       "    <tr style=\"text-align: right;\">\n",
       "      <th></th>\n",
       "      <th>num_songs</th>\n",
       "      <th>artist_id</th>\n",
       "      <th>artist_latitude</th>\n",
       "      <th>artist_longitude</th>\n",
       "      <th>artist_location</th>\n",
       "      <th>artist_name</th>\n",
       "      <th>song_id</th>\n",
       "      <th>title</th>\n",
       "      <th>duration</th>\n",
       "      <th>year</th>\n",
       "    </tr>\n",
       "  </thead>\n",
       "  <tbody>\n",
       "    <tr>\n",
       "      <th>0</th>\n",
       "      <td>1</td>\n",
       "      <td>ARD0S291187B9B7BF5</td>\n",
       "      <td>None</td>\n",
       "      <td>None</td>\n",
       "      <td>Ohio</td>\n",
       "      <td>Rated R</td>\n",
       "      <td>SOMJBYD12A6D4F8557</td>\n",
       "      <td>Keepin It Real (Skit)</td>\n",
       "      <td>114.78159</td>\n",
       "      <td>0</td>\n",
       "    </tr>\n",
       "  </tbody>\n",
       "</table>\n",
       "</div>"
      ],
      "text/plain": [
       "   num_songs           artist_id artist_latitude artist_longitude  \\\n",
       "0          1  ARD0S291187B9B7BF5            None             None   \n",
       "\n",
       "  artist_location artist_name             song_id                  title  \\\n",
       "0            Ohio     Rated R  SOMJBYD12A6D4F8557  Keepin It Real (Skit)   \n",
       "\n",
       "    duration  year  \n",
       "0  114.78159     0  "
      ]
     },
     "execution_count": 6,
     "metadata": {},
     "output_type": "execute_result"
    }
   ],
   "source": [
    "df = pd.DataFrame([pd.read_json(file_path, typ='series', convert_dates=False)])\n",
    "df.head()"
   ]
  },
  {
   "cell_type": "markdown",
   "metadata": {},
   "source": [
    "## 1: artists table"
   ]
  },
  {
   "cell_type": "code",
   "execution_count": 7,
   "metadata": {},
   "outputs": [
    {
     "data": {
      "text/plain": [
       "['ARD0S291187B9B7BF5', 'Rated R', 'Ohio', None, None]"
      ]
     },
     "execution_count": 7,
     "metadata": {},
     "output_type": "execute_result"
    }
   ],
   "source": [
    "artist_data = df[['artist_id', 'artist_name', 'artist_location', 'artist_latitude', 'artist_longitude']]\n",
    "artist_data = artist_data.values.tolist()[0]\n",
    "artist_data"
   ]
  },
  {
   "cell_type": "code",
   "execution_count": 8,
   "metadata": {},
   "outputs": [],
   "source": [
    "cur.execute(artist_table_insert, artist_data)\n",
    "conn.commit()"
   ]
  },
  {
   "cell_type": "markdown",
   "metadata": {},
   "source": [
    "## 2: songs table"
   ]
  },
  {
   "cell_type": "code",
   "execution_count": 9,
   "metadata": {},
   "outputs": [
    {
     "data": {
      "text/plain": [
       "[1, 'Keepin It Real (Skit)', 'ARD0S291187B9B7BF5', 0, 114.78159]"
      ]
     },
     "execution_count": 9,
     "metadata": {},
     "output_type": "execute_result"
    }
   ],
   "source": [
    "song_data = df[['num_songs','title', 'artist_id', 'year', 'duration']]\n",
    "song_data = song_data.values.tolist()[0]\n",
    "song_data"
   ]
  },
  {
   "cell_type": "code",
   "execution_count": 10,
   "metadata": {},
   "outputs": [],
   "source": [
    "cur.execute(song_table_insert, song_data)\n",
    "conn.commit()"
   ]
  },
  {
   "cell_type": "markdown",
   "metadata": {},
   "source": [
    "# Process log data"
   ]
  },
  {
   "cell_type": "code",
   "execution_count": 11,
   "metadata": {},
   "outputs": [
    {
     "name": "stdout",
     "output_type": "stream",
     "text": [
      "['/home/winner/Documents/Data Engineer/project/DataModeling_with_Postgres/data/log_data/2018/11/2018-11-02-events.json', '/home/winner/Documents/Data Engineer/project/DataModeling_with_Postgres/data/log_data/2018/11/2018-11-20-events.json', '/home/winner/Documents/Data Engineer/project/DataModeling_with_Postgres/data/log_data/2018/11/2018-11-08-events.json', '/home/winner/Documents/Data Engineer/project/DataModeling_with_Postgres/data/log_data/2018/11/2018-11-01-events.json', '/home/winner/Documents/Data Engineer/project/DataModeling_with_Postgres/data/log_data/2018/11/2018-11-24-events.json', '/home/winner/Documents/Data Engineer/project/DataModeling_with_Postgres/data/log_data/2018/11/2018-11-21-events.json', '/home/winner/Documents/Data Engineer/project/DataModeling_with_Postgres/data/log_data/2018/11/2018-11-26-events.json', '/home/winner/Documents/Data Engineer/project/DataModeling_with_Postgres/data/log_data/2018/11/2018-11-14-events.json', '/home/winner/Documents/Data Engineer/project/DataModeling_with_Postgres/data/log_data/2018/11/2018-11-12-events.json', '/home/winner/Documents/Data Engineer/project/DataModeling_with_Postgres/data/log_data/2018/11/2018-11-06-events.json', '/home/winner/Documents/Data Engineer/project/DataModeling_with_Postgres/data/log_data/2018/11/2018-11-09-events.json', '/home/winner/Documents/Data Engineer/project/DataModeling_with_Postgres/data/log_data/2018/11/2018-11-30-events.json', '/home/winner/Documents/Data Engineer/project/DataModeling_with_Postgres/data/log_data/2018/11/2018-11-19-events.json', '/home/winner/Documents/Data Engineer/project/DataModeling_with_Postgres/data/log_data/2018/11/2018-11-29-events.json', '/home/winner/Documents/Data Engineer/project/DataModeling_with_Postgres/data/log_data/2018/11/2018-11-11-events.json', '/home/winner/Documents/Data Engineer/project/DataModeling_with_Postgres/data/log_data/2018/11/2018-11-03-events.json', '/home/winner/Documents/Data Engineer/project/DataModeling_with_Postgres/data/log_data/2018/11/2018-11-13-events.json', '/home/winner/Documents/Data Engineer/project/DataModeling_with_Postgres/data/log_data/2018/11/2018-11-22-events.json', '/home/winner/Documents/Data Engineer/project/DataModeling_with_Postgres/data/log_data/2018/11/2018-11-23-events.json', '/home/winner/Documents/Data Engineer/project/DataModeling_with_Postgres/data/log_data/2018/11/2018-11-16-events.json', '/home/winner/Documents/Data Engineer/project/DataModeling_with_Postgres/data/log_data/2018/11/2018-11-10-events.json', '/home/winner/Documents/Data Engineer/project/DataModeling_with_Postgres/data/log_data/2018/11/2018-11-07-events.json', '/home/winner/Documents/Data Engineer/project/DataModeling_with_Postgres/data/log_data/2018/11/2018-11-05-events.json', '/home/winner/Documents/Data Engineer/project/DataModeling_with_Postgres/data/log_data/2018/11/2018-11-25-events.json', '/home/winner/Documents/Data Engineer/project/DataModeling_with_Postgres/data/log_data/2018/11/2018-11-18-events.json', '/home/winner/Documents/Data Engineer/project/DataModeling_with_Postgres/data/log_data/2018/11/2018-11-27-events.json', '/home/winner/Documents/Data Engineer/project/DataModeling_with_Postgres/data/log_data/2018/11/2018-11-17-events.json', '/home/winner/Documents/Data Engineer/project/DataModeling_with_Postgres/data/log_data/2018/11/2018-11-28-events.json', '/home/winner/Documents/Data Engineer/project/DataModeling_with_Postgres/data/log_data/2018/11/2018-11-04-events.json', '/home/winner/Documents/Data Engineer/project/DataModeling_with_Postgres/data/log_data/2018/11/2018-11-15-events.json']\n"
     ]
    }
   ],
   "source": [
    "logs_file = get_files('data/log_data')\n",
    "print(logs_file)"
   ]
  },
  {
   "cell_type": "code",
   "execution_count": 12,
   "metadata": {},
   "outputs": [
    {
     "name": "stdout",
     "output_type": "stream",
     "text": [
      "/home/winner/Documents/Data Engineer/project/DataModeling_with_Postgres/data/log_data/2018/11/2018-11-02-events.json\n"
     ]
    }
   ],
   "source": [
    "file_path = logs_file[0]\n",
    "print(file_path)"
   ]
  },
  {
   "cell_type": "code",
   "execution_count": 33,
   "metadata": {},
   "outputs": [
    {
     "data": {
      "text/html": [
       "<div>\n",
       "<style scoped>\n",
       "    .dataframe tbody tr th:only-of-type {\n",
       "        vertical-align: middle;\n",
       "    }\n",
       "\n",
       "    .dataframe tbody tr th {\n",
       "        vertical-align: top;\n",
       "    }\n",
       "\n",
       "    .dataframe thead th {\n",
       "        text-align: right;\n",
       "    }\n",
       "</style>\n",
       "<table border=\"1\" class=\"dataframe\">\n",
       "  <thead>\n",
       "    <tr style=\"text-align: right;\">\n",
       "      <th></th>\n",
       "      <th>artist</th>\n",
       "      <th>auth</th>\n",
       "      <th>firstName</th>\n",
       "      <th>gender</th>\n",
       "      <th>itemInSession</th>\n",
       "      <th>lastName</th>\n",
       "      <th>length</th>\n",
       "      <th>level</th>\n",
       "      <th>location</th>\n",
       "      <th>method</th>\n",
       "      <th>page</th>\n",
       "      <th>registration</th>\n",
       "      <th>sessionId</th>\n",
       "      <th>song</th>\n",
       "      <th>status</th>\n",
       "      <th>ts</th>\n",
       "      <th>userAgent</th>\n",
       "      <th>userId</th>\n",
       "    </tr>\n",
       "  </thead>\n",
       "  <tbody>\n",
       "    <tr>\n",
       "      <th>0</th>\n",
       "      <td>N.E.R.D. FEATURING MALICE</td>\n",
       "      <td>Logged In</td>\n",
       "      <td>Jayden</td>\n",
       "      <td>M</td>\n",
       "      <td>0</td>\n",
       "      <td>Fox</td>\n",
       "      <td>288.99220</td>\n",
       "      <td>free</td>\n",
       "      <td>New Orleans-Metairie, LA</td>\n",
       "      <td>PUT</td>\n",
       "      <td>NextSong</td>\n",
       "      <td>1541033612796</td>\n",
       "      <td>184</td>\n",
       "      <td>Am I High (Feat. Malice)</td>\n",
       "      <td>200</td>\n",
       "      <td>1541121934796</td>\n",
       "      <td>\"Mozilla/5.0 (Windows NT 6.3; WOW64) AppleWebK...</td>\n",
       "      <td>101</td>\n",
       "    </tr>\n",
       "    <tr>\n",
       "      <th>2</th>\n",
       "      <td>Death Cab for Cutie</td>\n",
       "      <td>Logged In</td>\n",
       "      <td>Stefany</td>\n",
       "      <td>F</td>\n",
       "      <td>1</td>\n",
       "      <td>White</td>\n",
       "      <td>216.42404</td>\n",
       "      <td>free</td>\n",
       "      <td>Lubbock, TX</td>\n",
       "      <td>PUT</td>\n",
       "      <td>NextSong</td>\n",
       "      <td>1540708070796</td>\n",
       "      <td>82</td>\n",
       "      <td>A Lack Of Color (Album Version)</td>\n",
       "      <td>200</td>\n",
       "      <td>1541122241796</td>\n",
       "      <td>\"Mozilla/5.0 (Macintosh; Intel Mac OS X 10_9_4...</td>\n",
       "      <td>83</td>\n",
       "    </tr>\n",
       "    <tr>\n",
       "      <th>3</th>\n",
       "      <td>Tracy Gang Pussy</td>\n",
       "      <td>Logged In</td>\n",
       "      <td>Stefany</td>\n",
       "      <td>F</td>\n",
       "      <td>2</td>\n",
       "      <td>White</td>\n",
       "      <td>221.33506</td>\n",
       "      <td>free</td>\n",
       "      <td>Lubbock, TX</td>\n",
       "      <td>PUT</td>\n",
       "      <td>NextSong</td>\n",
       "      <td>1540708070796</td>\n",
       "      <td>82</td>\n",
       "      <td>I Have A Wish</td>\n",
       "      <td>200</td>\n",
       "      <td>1541122457796</td>\n",
       "      <td>\"Mozilla/5.0 (Macintosh; Intel Mac OS X 10_9_4...</td>\n",
       "      <td>83</td>\n",
       "    </tr>\n",
       "    <tr>\n",
       "      <th>4</th>\n",
       "      <td>Skillet</td>\n",
       "      <td>Logged In</td>\n",
       "      <td>Kevin</td>\n",
       "      <td>M</td>\n",
       "      <td>0</td>\n",
       "      <td>Arellano</td>\n",
       "      <td>178.02404</td>\n",
       "      <td>free</td>\n",
       "      <td>Harrisburg-Carlisle, PA</td>\n",
       "      <td>PUT</td>\n",
       "      <td>NextSong</td>\n",
       "      <td>1540006905796</td>\n",
       "      <td>153</td>\n",
       "      <td>Monster (Album Version)</td>\n",
       "      <td>200</td>\n",
       "      <td>1541126568796</td>\n",
       "      <td>\"Mozilla/5.0 (Macintosh; Intel Mac OS X 10_9_4...</td>\n",
       "      <td>66</td>\n",
       "    </tr>\n",
       "    <tr>\n",
       "      <th>5</th>\n",
       "      <td>Dance Gavin Dance</td>\n",
       "      <td>Logged In</td>\n",
       "      <td>Marina</td>\n",
       "      <td>F</td>\n",
       "      <td>0</td>\n",
       "      <td>Sutton</td>\n",
       "      <td>218.46159</td>\n",
       "      <td>free</td>\n",
       "      <td>Salinas, CA</td>\n",
       "      <td>PUT</td>\n",
       "      <td>NextSong</td>\n",
       "      <td>1541064343796</td>\n",
       "      <td>47</td>\n",
       "      <td>Uneasy Hearts Weigh The Most</td>\n",
       "      <td>200</td>\n",
       "      <td>1541127957796</td>\n",
       "      <td>\"Mozilla/5.0 (Macintosh; Intel Mac OS X 10_9_4...</td>\n",
       "      <td>48</td>\n",
       "    </tr>\n",
       "  </tbody>\n",
       "</table>\n",
       "</div>"
      ],
      "text/plain": [
       "                      artist       auth firstName gender  itemInSession  \\\n",
       "0  N.E.R.D. FEATURING MALICE  Logged In    Jayden      M              0   \n",
       "2        Death Cab for Cutie  Logged In   Stefany      F              1   \n",
       "3           Tracy Gang Pussy  Logged In   Stefany      F              2   \n",
       "4                    Skillet  Logged In     Kevin      M              0   \n",
       "5          Dance Gavin Dance  Logged In    Marina      F              0   \n",
       "\n",
       "   lastName     length level                  location method      page  \\\n",
       "0       Fox  288.99220  free  New Orleans-Metairie, LA    PUT  NextSong   \n",
       "2     White  216.42404  free               Lubbock, TX    PUT  NextSong   \n",
       "3     White  221.33506  free               Lubbock, TX    PUT  NextSong   \n",
       "4  Arellano  178.02404  free   Harrisburg-Carlisle, PA    PUT  NextSong   \n",
       "5    Sutton  218.46159  free               Salinas, CA    PUT  NextSong   \n",
       "\n",
       "    registration  sessionId                             song  status  \\\n",
       "0  1541033612796        184         Am I High (Feat. Malice)     200   \n",
       "2  1540708070796         82  A Lack Of Color (Album Version)     200   \n",
       "3  1540708070796         82                    I Have A Wish     200   \n",
       "4  1540006905796        153          Monster (Album Version)     200   \n",
       "5  1541064343796         47     Uneasy Hearts Weigh The Most     200   \n",
       "\n",
       "              ts                                          userAgent  userId  \n",
       "0  1541121934796  \"Mozilla/5.0 (Windows NT 6.3; WOW64) AppleWebK...     101  \n",
       "2  1541122241796  \"Mozilla/5.0 (Macintosh; Intel Mac OS X 10_9_4...      83  \n",
       "3  1541122457796  \"Mozilla/5.0 (Macintosh; Intel Mac OS X 10_9_4...      83  \n",
       "4  1541126568796  \"Mozilla/5.0 (Macintosh; Intel Mac OS X 10_9_4...      66  \n",
       "5  1541127957796  \"Mozilla/5.0 (Macintosh; Intel Mac OS X 10_9_4...      48  "
      ]
     },
     "execution_count": 33,
     "metadata": {},
     "output_type": "execute_result"
    }
   ],
   "source": [
    "df = pd.read_json(file_path, lines=True)\n",
    "df = df[df['page']=='NextSong']"
   ]
  },
  {
   "cell_type": "code",
   "execution_count": 36,
   "metadata": {},
   "outputs": [
    {
     "data": {
      "text/plain": [
       "0   2018-11-02 01:25:34.796\n",
       "1   2018-11-02 01:29:36.796\n",
       "2   2018-11-02 01:30:41.796\n",
       "3   2018-11-02 01:34:17.796\n",
       "4   2018-11-02 02:42:48.796\n",
       "Name: ts, dtype: datetime64[ns]"
      ]
     },
     "execution_count": 36,
     "metadata": {},
     "output_type": "execute_result"
    }
   ],
   "source": [
    "import datetime\n",
    "#time = datetime.datetime.fromtimestamp(1541033612796/1000.0)\n",
    "t = pd.to_datetime(df['ts'], unit='ms')\n",
    "t.head()"
   ]
  },
  {
   "cell_type": "code",
   "execution_count": 50,
   "metadata": {},
   "outputs": [],
   "source": [
    "time_data = []\n",
    "for data in t: \n",
    "    time_data.append([data, data.hour, data.day, data.weekofyear, data.month, data.year, data.day_name()])\n",
    "column_labels = [\"timestamp\", \"hour\", \"day\", \"week_of_year\", \"month\", \"year\", \"weekday\"]"
   ]
  },
  {
   "cell_type": "code",
   "execution_count": 52,
   "metadata": {},
   "outputs": [
    {
     "data": {
      "text/html": [
       "<div>\n",
       "<style scoped>\n",
       "    .dataframe tbody tr th:only-of-type {\n",
       "        vertical-align: middle;\n",
       "    }\n",
       "\n",
       "    .dataframe tbody tr th {\n",
       "        vertical-align: top;\n",
       "    }\n",
       "\n",
       "    .dataframe thead th {\n",
       "        text-align: right;\n",
       "    }\n",
       "</style>\n",
       "<table border=\"1\" class=\"dataframe\">\n",
       "  <thead>\n",
       "    <tr style=\"text-align: right;\">\n",
       "      <th></th>\n",
       "      <th>timestamp</th>\n",
       "      <th>hour</th>\n",
       "      <th>day</th>\n",
       "      <th>week_of_year</th>\n",
       "      <th>month</th>\n",
       "      <th>year</th>\n",
       "      <th>weekday</th>\n",
       "    </tr>\n",
       "  </thead>\n",
       "  <tbody>\n",
       "    <tr>\n",
       "      <th>0</th>\n",
       "      <td>2018-11-02 01:25:34.796</td>\n",
       "      <td>1</td>\n",
       "      <td>2</td>\n",
       "      <td>44</td>\n",
       "      <td>11</td>\n",
       "      <td>2018</td>\n",
       "      <td>Friday</td>\n",
       "    </tr>\n",
       "    <tr>\n",
       "      <th>1</th>\n",
       "      <td>2018-11-02 01:29:36.796</td>\n",
       "      <td>1</td>\n",
       "      <td>2</td>\n",
       "      <td>44</td>\n",
       "      <td>11</td>\n",
       "      <td>2018</td>\n",
       "      <td>Friday</td>\n",
       "    </tr>\n",
       "    <tr>\n",
       "      <th>2</th>\n",
       "      <td>2018-11-02 01:30:41.796</td>\n",
       "      <td>1</td>\n",
       "      <td>2</td>\n",
       "      <td>44</td>\n",
       "      <td>11</td>\n",
       "      <td>2018</td>\n",
       "      <td>Friday</td>\n",
       "    </tr>\n",
       "    <tr>\n",
       "      <th>3</th>\n",
       "      <td>2018-11-02 01:34:17.796</td>\n",
       "      <td>1</td>\n",
       "      <td>2</td>\n",
       "      <td>44</td>\n",
       "      <td>11</td>\n",
       "      <td>2018</td>\n",
       "      <td>Friday</td>\n",
       "    </tr>\n",
       "    <tr>\n",
       "      <th>4</th>\n",
       "      <td>2018-11-02 02:42:48.796</td>\n",
       "      <td>2</td>\n",
       "      <td>2</td>\n",
       "      <td>44</td>\n",
       "      <td>11</td>\n",
       "      <td>2018</td>\n",
       "      <td>Friday</td>\n",
       "    </tr>\n",
       "  </tbody>\n",
       "</table>\n",
       "</div>"
      ],
      "text/plain": [
       "                timestamp  hour  day  week_of_year  month  year weekday\n",
       "0 2018-11-02 01:25:34.796     1    2            44     11  2018  Friday\n",
       "1 2018-11-02 01:29:36.796     1    2            44     11  2018  Friday\n",
       "2 2018-11-02 01:30:41.796     1    2            44     11  2018  Friday\n",
       "3 2018-11-02 01:34:17.796     1    2            44     11  2018  Friday\n",
       "4 2018-11-02 02:42:48.796     2    2            44     11  2018  Friday"
      ]
     },
     "execution_count": 52,
     "metadata": {},
     "output_type": "execute_result"
    }
   ],
   "source": [
    "time_df = pd.DataFrame.from_records(data=time_data, columns=column_labels)\n",
    "time_df.head()"
   ]
  },
  {
   "cell_type": "code",
   "execution_count": 53,
   "metadata": {},
   "outputs": [],
   "source": [
    "for i, row in time_df.iterrows():\n",
    "    cur.execute(time_table_insert, list(row))\n",
    "    conn.commit()"
   ]
  },
  {
   "cell_type": "markdown",
   "metadata": {},
   "source": [
    "## 3: users table"
   ]
  },
  {
   "cell_type": "code",
   "execution_count": 54,
   "metadata": {},
   "outputs": [
    {
     "data": {
      "text/html": [
       "<div>\n",
       "<style scoped>\n",
       "    .dataframe tbody tr th:only-of-type {\n",
       "        vertical-align: middle;\n",
       "    }\n",
       "\n",
       "    .dataframe tbody tr th {\n",
       "        vertical-align: top;\n",
       "    }\n",
       "\n",
       "    .dataframe thead th {\n",
       "        text-align: right;\n",
       "    }\n",
       "</style>\n",
       "<table border=\"1\" class=\"dataframe\">\n",
       "  <thead>\n",
       "    <tr style=\"text-align: right;\">\n",
       "      <th></th>\n",
       "      <th>artist</th>\n",
       "      <th>auth</th>\n",
       "      <th>firstName</th>\n",
       "      <th>gender</th>\n",
       "      <th>itemInSession</th>\n",
       "      <th>lastName</th>\n",
       "      <th>length</th>\n",
       "      <th>level</th>\n",
       "      <th>location</th>\n",
       "      <th>method</th>\n",
       "      <th>page</th>\n",
       "      <th>registration</th>\n",
       "      <th>sessionId</th>\n",
       "      <th>song</th>\n",
       "      <th>status</th>\n",
       "      <th>ts</th>\n",
       "      <th>userAgent</th>\n",
       "      <th>userId</th>\n",
       "    </tr>\n",
       "  </thead>\n",
       "  <tbody>\n",
       "    <tr>\n",
       "      <th>0</th>\n",
       "      <td>N.E.R.D. FEATURING MALICE</td>\n",
       "      <td>Logged In</td>\n",
       "      <td>Jayden</td>\n",
       "      <td>M</td>\n",
       "      <td>0</td>\n",
       "      <td>Fox</td>\n",
       "      <td>288.99220</td>\n",
       "      <td>free</td>\n",
       "      <td>New Orleans-Metairie, LA</td>\n",
       "      <td>PUT</td>\n",
       "      <td>NextSong</td>\n",
       "      <td>1541033612796</td>\n",
       "      <td>184</td>\n",
       "      <td>Am I High (Feat. Malice)</td>\n",
       "      <td>200</td>\n",
       "      <td>1541121934796</td>\n",
       "      <td>\"Mozilla/5.0 (Windows NT 6.3; WOW64) AppleWebK...</td>\n",
       "      <td>101</td>\n",
       "    </tr>\n",
       "    <tr>\n",
       "      <th>1</th>\n",
       "      <td>None</td>\n",
       "      <td>Logged In</td>\n",
       "      <td>Stefany</td>\n",
       "      <td>F</td>\n",
       "      <td>0</td>\n",
       "      <td>White</td>\n",
       "      <td>NaN</td>\n",
       "      <td>free</td>\n",
       "      <td>Lubbock, TX</td>\n",
       "      <td>GET</td>\n",
       "      <td>Home</td>\n",
       "      <td>1540708070796</td>\n",
       "      <td>82</td>\n",
       "      <td>None</td>\n",
       "      <td>200</td>\n",
       "      <td>1541122176796</td>\n",
       "      <td>\"Mozilla/5.0 (Macintosh; Intel Mac OS X 10_9_4...</td>\n",
       "      <td>83</td>\n",
       "    </tr>\n",
       "    <tr>\n",
       "      <th>2</th>\n",
       "      <td>Death Cab for Cutie</td>\n",
       "      <td>Logged In</td>\n",
       "      <td>Stefany</td>\n",
       "      <td>F</td>\n",
       "      <td>1</td>\n",
       "      <td>White</td>\n",
       "      <td>216.42404</td>\n",
       "      <td>free</td>\n",
       "      <td>Lubbock, TX</td>\n",
       "      <td>PUT</td>\n",
       "      <td>NextSong</td>\n",
       "      <td>1540708070796</td>\n",
       "      <td>82</td>\n",
       "      <td>A Lack Of Color (Album Version)</td>\n",
       "      <td>200</td>\n",
       "      <td>1541122241796</td>\n",
       "      <td>\"Mozilla/5.0 (Macintosh; Intel Mac OS X 10_9_4...</td>\n",
       "      <td>83</td>\n",
       "    </tr>\n",
       "    <tr>\n",
       "      <th>3</th>\n",
       "      <td>Tracy Gang Pussy</td>\n",
       "      <td>Logged In</td>\n",
       "      <td>Stefany</td>\n",
       "      <td>F</td>\n",
       "      <td>2</td>\n",
       "      <td>White</td>\n",
       "      <td>221.33506</td>\n",
       "      <td>free</td>\n",
       "      <td>Lubbock, TX</td>\n",
       "      <td>PUT</td>\n",
       "      <td>NextSong</td>\n",
       "      <td>1540708070796</td>\n",
       "      <td>82</td>\n",
       "      <td>I Have A Wish</td>\n",
       "      <td>200</td>\n",
       "      <td>1541122457796</td>\n",
       "      <td>\"Mozilla/5.0 (Macintosh; Intel Mac OS X 10_9_4...</td>\n",
       "      <td>83</td>\n",
       "    </tr>\n",
       "    <tr>\n",
       "      <th>4</th>\n",
       "      <td>Skillet</td>\n",
       "      <td>Logged In</td>\n",
       "      <td>Kevin</td>\n",
       "      <td>M</td>\n",
       "      <td>0</td>\n",
       "      <td>Arellano</td>\n",
       "      <td>178.02404</td>\n",
       "      <td>free</td>\n",
       "      <td>Harrisburg-Carlisle, PA</td>\n",
       "      <td>PUT</td>\n",
       "      <td>NextSong</td>\n",
       "      <td>1540006905796</td>\n",
       "      <td>153</td>\n",
       "      <td>Monster (Album Version)</td>\n",
       "      <td>200</td>\n",
       "      <td>1541126568796</td>\n",
       "      <td>\"Mozilla/5.0 (Macintosh; Intel Mac OS X 10_9_4...</td>\n",
       "      <td>66</td>\n",
       "    </tr>\n",
       "  </tbody>\n",
       "</table>\n",
       "</div>"
      ],
      "text/plain": [
       "                      artist       auth firstName gender  itemInSession  \\\n",
       "0  N.E.R.D. FEATURING MALICE  Logged In    Jayden      M              0   \n",
       "1                       None  Logged In   Stefany      F              0   \n",
       "2        Death Cab for Cutie  Logged In   Stefany      F              1   \n",
       "3           Tracy Gang Pussy  Logged In   Stefany      F              2   \n",
       "4                    Skillet  Logged In     Kevin      M              0   \n",
       "\n",
       "   lastName     length level                  location method      page  \\\n",
       "0       Fox  288.99220  free  New Orleans-Metairie, LA    PUT  NextSong   \n",
       "1     White        NaN  free               Lubbock, TX    GET      Home   \n",
       "2     White  216.42404  free               Lubbock, TX    PUT  NextSong   \n",
       "3     White  221.33506  free               Lubbock, TX    PUT  NextSong   \n",
       "4  Arellano  178.02404  free   Harrisburg-Carlisle, PA    PUT  NextSong   \n",
       "\n",
       "    registration  sessionId                             song  status  \\\n",
       "0  1541033612796        184         Am I High (Feat. Malice)     200   \n",
       "1  1540708070796         82                             None     200   \n",
       "2  1540708070796         82  A Lack Of Color (Album Version)     200   \n",
       "3  1540708070796         82                    I Have A Wish     200   \n",
       "4  1540006905796        153          Monster (Album Version)     200   \n",
       "\n",
       "              ts                                          userAgent  userId  \n",
       "0  1541121934796  \"Mozilla/5.0 (Windows NT 6.3; WOW64) AppleWebK...     101  \n",
       "1  1541122176796  \"Mozilla/5.0 (Macintosh; Intel Mac OS X 10_9_4...      83  \n",
       "2  1541122241796  \"Mozilla/5.0 (Macintosh; Intel Mac OS X 10_9_4...      83  \n",
       "3  1541122457796  \"Mozilla/5.0 (Macintosh; Intel Mac OS X 10_9_4...      83  \n",
       "4  1541126568796  \"Mozilla/5.0 (Macintosh; Intel Mac OS X 10_9_4...      66  "
      ]
     },
     "execution_count": 54,
     "metadata": {},
     "output_type": "execute_result"
    }
   ],
   "source": [
    "df.head()"
   ]
  },
  {
   "cell_type": "code",
   "execution_count": 59,
   "metadata": {},
   "outputs": [
    {
     "data": {
      "text/html": [
       "<div>\n",
       "<style scoped>\n",
       "    .dataframe tbody tr th:only-of-type {\n",
       "        vertical-align: middle;\n",
       "    }\n",
       "\n",
       "    .dataframe tbody tr th {\n",
       "        vertical-align: top;\n",
       "    }\n",
       "\n",
       "    .dataframe thead th {\n",
       "        text-align: right;\n",
       "    }\n",
       "</style>\n",
       "<table border=\"1\" class=\"dataframe\">\n",
       "  <thead>\n",
       "    <tr style=\"text-align: right;\">\n",
       "      <th></th>\n",
       "      <th>userId</th>\n",
       "      <th>firstName</th>\n",
       "      <th>lastName</th>\n",
       "      <th>gender</th>\n",
       "      <th>level</th>\n",
       "    </tr>\n",
       "  </thead>\n",
       "  <tbody>\n",
       "    <tr>\n",
       "      <th>0</th>\n",
       "      <td>101</td>\n",
       "      <td>Jayden</td>\n",
       "      <td>Fox</td>\n",
       "      <td>M</td>\n",
       "      <td>free</td>\n",
       "    </tr>\n",
       "    <tr>\n",
       "      <th>1</th>\n",
       "      <td>83</td>\n",
       "      <td>Stefany</td>\n",
       "      <td>White</td>\n",
       "      <td>F</td>\n",
       "      <td>free</td>\n",
       "    </tr>\n",
       "    <tr>\n",
       "      <th>2</th>\n",
       "      <td>83</td>\n",
       "      <td>Stefany</td>\n",
       "      <td>White</td>\n",
       "      <td>F</td>\n",
       "      <td>free</td>\n",
       "    </tr>\n",
       "    <tr>\n",
       "      <th>3</th>\n",
       "      <td>83</td>\n",
       "      <td>Stefany</td>\n",
       "      <td>White</td>\n",
       "      <td>F</td>\n",
       "      <td>free</td>\n",
       "    </tr>\n",
       "    <tr>\n",
       "      <th>4</th>\n",
       "      <td>66</td>\n",
       "      <td>Kevin</td>\n",
       "      <td>Arellano</td>\n",
       "      <td>M</td>\n",
       "      <td>free</td>\n",
       "    </tr>\n",
       "  </tbody>\n",
       "</table>\n",
       "</div>"
      ],
      "text/plain": [
       "   userId firstName  lastName gender level\n",
       "0     101    Jayden       Fox      M  free\n",
       "1      83   Stefany     White      F  free\n",
       "2      83   Stefany     White      F  free\n",
       "3      83   Stefany     White      F  free\n",
       "4      66     Kevin  Arellano      M  free"
      ]
     },
     "execution_count": 59,
     "metadata": {},
     "output_type": "execute_result"
    }
   ],
   "source": [
    "user_df = df[['userId', 'firstName', 'lastName', 'gender', 'level']]\n",
    "user_df.head()\n"
   ]
  },
  {
   "cell_type": "code",
   "execution_count": 62,
   "metadata": {},
   "outputs": [],
   "source": [
    "for i, row in user_df.iterrows():\n",
    "    cur.execute(user_table_insert, list(row))\n",
    "    conn.commit()"
   ]
  },
  {
   "cell_type": "markdown",
   "metadata": {},
   "source": [
    "## songplay"
   ]
  },
  {
   "cell_type": "code",
   "execution_count": null,
   "metadata": {},
   "outputs": [],
   "source": [
    "df = df[df['page'] == \"NextSong\"].astype({'ts': 'datetime64[ms]'})\n",
    "\n",
    "# convert timestamp column to datetime\n",
    "t = pd.Series(df['ts'], index=df.index)\n",
    "for i, row in df.iterrows():\n",
    "    cur.execute(song_select, (row.song, row.artist, row.length))\n",
    "    results = cur.fetchone()\n",
    "\n",
    "    if results:\n",
    "        song_id, artist_id = results\n",
    "    else:\n",
    "        song_id, artist_id = None, None\n",
    "    \n",
    "    songplay_data = (row.ts, row.userId, row.level, song_id, artist_id, row.sessionId, row.location, row.userAgent)\n",
    "    cur.execute(songplay_table_insert, songplay_data)"
   ]
  },
  {
   "cell_type": "code",
   "execution_count": 68,
   "metadata": {},
   "outputs": [],
   "source": [
    "conn.close()"
   ]
  },
  {
   "cell_type": "code",
   "execution_count": null,
   "metadata": {},
   "outputs": [],
   "source": []
  }
 ],
 "metadata": {
  "interpreter": {
   "hash": "90a57616174740cdb66633323345518815abf398fe1372a959bba4916d504e7f"
  },
  "kernelspec": {
   "display_name": "Python 3.8.5 ('DE')",
   "language": "python",
   "name": "python3"
  },
  "language_info": {
   "codemirror_mode": {
    "name": "ipython",
    "version": 3
   },
   "file_extension": ".py",
   "mimetype": "text/x-python",
   "name": "python",
   "nbconvert_exporter": "python",
   "pygments_lexer": "ipython3",
   "version": "3.8.12"
  },
  "orig_nbformat": 4
 },
 "nbformat": 4,
 "nbformat_minor": 2
}
